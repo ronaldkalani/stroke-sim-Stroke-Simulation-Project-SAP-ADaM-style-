{
  "nbformat": 4,
  "nbformat_minor": 0,
  "metadata": {
    "colab": {
      "provenance": []
    },
    "kernelspec": {
      "name": "python3",
      "display_name": "Python 3"
    },
    "language_info": {
      "name": "python"
    }
  },
  "cells": [
    {
      "cell_type": "markdown",
      "source": [
        "# AI-Powered Stratified Clinical Trial Simulation and Stroke Risk Modeling\n",
        "\n",
        "\n",
        "This project simulates a randomized clinical trial (RCT) using real-world stroke prediction data. It applies statistical planning principles (SAP simulation), performs stratified randomization, builds SDTM/ADaM-like datasets, runs QC checks, and visualizes outcomes using Python.\n",
        "\n",
        "---\n",
        "\n",
        "\n",
        "## Goal\n",
        "\n",
        "\n",
        "To emulate a clinical trial analysis pipeline with:\n",
        "- Eligibility criteria (Inclusion/Exclusion)\n",
        "- Stratified randomization\n",
        "- Endpoint definition\n",
        "- CDISC-like output (SDTM, ADaM)\n",
        "- Quality control and statistical reporting\n",
        "\n",
        "---\n",
        "\n",
        "\n",
        "## Intended Audience\n",
        "\n",
        "- Clinical Biostatisticians\n",
        "- Contract Research Organizations (CROs)\n",
        "- Regulatory Science Analysts\n",
        "- Health Data Scientists & AI/ML Engineers\n",
        "- Pharma/MedTech Hiring Managers\n",
        "\n",
        "---\n",
        "\n",
        "\n",
        "## Strategy & Pipeline\n",
        "\n",
        "1. Load dataset from Google Drive (Kaggle stroke dataset)\n",
        "2. Apply inclusion: Age >= 18, BMI not null\n",
        "3. Define covariates: age, hypertension, heart disease, smoking status\n",
        "4. Simulate stratified randomization (gender × hypertension)\n",
        "5. Define endpoints: primary (stroke), secondary (age group)\n",
        "6. Create SDTM-like (DM, VS, MH) and ADaM-style datasets\n",
        "7. QC checks: missing, outliers, duplicates\n",
        "8. Visualize risk score and outcomes\n",
        "9. Export CSVs and Markdown SAP\n",
        "\n",
        "---\n",
        "\n",
        "\n",
        "## Problem Statement\n",
        "\n",
        "How can data scientists simulate trial-quality randomized cohorts using public health data, while producing audit-ready statistical outputs without SAS?\n",
        "\n",
        "---\n",
        "\n",
        "\n",
        "## Dataset\n",
        "\n",
        "- **Name**: Stroke Prediction Dataset\n",
        "- **Source**: [Kaggle](https://www.kaggle.com/datasets/fedesoriano/stroke-prediction-dataset)\n",
        "- **Fields**: Age, gender, BMI, hypertension, heart disease, avg_glucose_level, stroke\n",
        "- **Size**: ~5,000 samples"
      ],
      "metadata": {
        "id": "SW4NRy9V1JtE"
      }
    },
    {
      "cell_type": "markdown",
      "source": [
        "**Step 0: Load the Dataset from Google Drive**"
      ],
      "metadata": {
        "id": "cRCNKBiqh4hL"
      }
    },
    {
      "cell_type": "markdown",
      "source": [
        "**Mount Google Drive**"
      ],
      "metadata": {
        "id": "1ATLrbBriUAC"
      }
    },
    {
      "cell_type": "code",
      "source": [
        "from google.colab import drive\n",
        "drive.mount('/content/drive')\n"
      ],
      "metadata": {
        "colab": {
          "base_uri": "https://localhost:8080/"
        },
        "id": "mPXvm0noiV9i",
        "outputId": "0b8183a5-68c5-4964-e327-1ef268e7eeb8"
      },
      "execution_count": 2,
      "outputs": [
        {
          "output_type": "stream",
          "name": "stdout",
          "text": [
            "Mounted at /content/drive\n"
          ]
        }
      ]
    },
    {
      "cell_type": "code",
      "source": [
        "import pandas as pd\n",
        "\n",
        "# Load data (adjust path if in Colab)\n",
        "data_path = \"/content/drive/My Drive/Stroke/healthcare-dataset-stroke-data.csv\"\n",
        "df = pd.read_csv(data_path)\n",
        "\n",
        "# Quick look\n",
        "df.head()\n"
      ],
      "metadata": {
        "colab": {
          "base_uri": "https://localhost:8080/",
          "height": 206
        },
        "id": "tKPnslP0insb",
        "outputId": "49bf07f1-43b9-4151-dd83-ec91b76529b1"
      },
      "execution_count": 5,
      "outputs": [
        {
          "output_type": "execute_result",
          "data": {
            "text/plain": [
              "      id  gender   age  hypertension  heart_disease ever_married  \\\n",
              "0   9046    Male  67.0             0              1          Yes   \n",
              "1  51676  Female  61.0             0              0          Yes   \n",
              "2  31112    Male  80.0             0              1          Yes   \n",
              "3  60182  Female  49.0             0              0          Yes   \n",
              "4   1665  Female  79.0             1              0          Yes   \n",
              "\n",
              "       work_type Residence_type  avg_glucose_level   bmi   smoking_status  \\\n",
              "0        Private          Urban             228.69  36.6  formerly smoked   \n",
              "1  Self-employed          Rural             202.21   NaN     never smoked   \n",
              "2        Private          Rural             105.92  32.5     never smoked   \n",
              "3        Private          Urban             171.23  34.4           smokes   \n",
              "4  Self-employed          Rural             174.12  24.0     never smoked   \n",
              "\n",
              "   stroke  \n",
              "0       1  \n",
              "1       1  \n",
              "2       1  \n",
              "3       1  \n",
              "4       1  "
            ],
            "text/html": [
              "\n",
              "  <div id=\"df-4c5ec80c-9ea6-43cd-ade1-ad2162a32b21\" class=\"colab-df-container\">\n",
              "    <div>\n",
              "<style scoped>\n",
              "    .dataframe tbody tr th:only-of-type {\n",
              "        vertical-align: middle;\n",
              "    }\n",
              "\n",
              "    .dataframe tbody tr th {\n",
              "        vertical-align: top;\n",
              "    }\n",
              "\n",
              "    .dataframe thead th {\n",
              "        text-align: right;\n",
              "    }\n",
              "</style>\n",
              "<table border=\"1\" class=\"dataframe\">\n",
              "  <thead>\n",
              "    <tr style=\"text-align: right;\">\n",
              "      <th></th>\n",
              "      <th>id</th>\n",
              "      <th>gender</th>\n",
              "      <th>age</th>\n",
              "      <th>hypertension</th>\n",
              "      <th>heart_disease</th>\n",
              "      <th>ever_married</th>\n",
              "      <th>work_type</th>\n",
              "      <th>Residence_type</th>\n",
              "      <th>avg_glucose_level</th>\n",
              "      <th>bmi</th>\n",
              "      <th>smoking_status</th>\n",
              "      <th>stroke</th>\n",
              "    </tr>\n",
              "  </thead>\n",
              "  <tbody>\n",
              "    <tr>\n",
              "      <th>0</th>\n",
              "      <td>9046</td>\n",
              "      <td>Male</td>\n",
              "      <td>67.0</td>\n",
              "      <td>0</td>\n",
              "      <td>1</td>\n",
              "      <td>Yes</td>\n",
              "      <td>Private</td>\n",
              "      <td>Urban</td>\n",
              "      <td>228.69</td>\n",
              "      <td>36.6</td>\n",
              "      <td>formerly smoked</td>\n",
              "      <td>1</td>\n",
              "    </tr>\n",
              "    <tr>\n",
              "      <th>1</th>\n",
              "      <td>51676</td>\n",
              "      <td>Female</td>\n",
              "      <td>61.0</td>\n",
              "      <td>0</td>\n",
              "      <td>0</td>\n",
              "      <td>Yes</td>\n",
              "      <td>Self-employed</td>\n",
              "      <td>Rural</td>\n",
              "      <td>202.21</td>\n",
              "      <td>NaN</td>\n",
              "      <td>never smoked</td>\n",
              "      <td>1</td>\n",
              "    </tr>\n",
              "    <tr>\n",
              "      <th>2</th>\n",
              "      <td>31112</td>\n",
              "      <td>Male</td>\n",
              "      <td>80.0</td>\n",
              "      <td>0</td>\n",
              "      <td>1</td>\n",
              "      <td>Yes</td>\n",
              "      <td>Private</td>\n",
              "      <td>Rural</td>\n",
              "      <td>105.92</td>\n",
              "      <td>32.5</td>\n",
              "      <td>never smoked</td>\n",
              "      <td>1</td>\n",
              "    </tr>\n",
              "    <tr>\n",
              "      <th>3</th>\n",
              "      <td>60182</td>\n",
              "      <td>Female</td>\n",
              "      <td>49.0</td>\n",
              "      <td>0</td>\n",
              "      <td>0</td>\n",
              "      <td>Yes</td>\n",
              "      <td>Private</td>\n",
              "      <td>Urban</td>\n",
              "      <td>171.23</td>\n",
              "      <td>34.4</td>\n",
              "      <td>smokes</td>\n",
              "      <td>1</td>\n",
              "    </tr>\n",
              "    <tr>\n",
              "      <th>4</th>\n",
              "      <td>1665</td>\n",
              "      <td>Female</td>\n",
              "      <td>79.0</td>\n",
              "      <td>1</td>\n",
              "      <td>0</td>\n",
              "      <td>Yes</td>\n",
              "      <td>Self-employed</td>\n",
              "      <td>Rural</td>\n",
              "      <td>174.12</td>\n",
              "      <td>24.0</td>\n",
              "      <td>never smoked</td>\n",
              "      <td>1</td>\n",
              "    </tr>\n",
              "  </tbody>\n",
              "</table>\n",
              "</div>\n",
              "    <div class=\"colab-df-buttons\">\n",
              "\n",
              "  <div class=\"colab-df-container\">\n",
              "    <button class=\"colab-df-convert\" onclick=\"convertToInteractive('df-4c5ec80c-9ea6-43cd-ade1-ad2162a32b21')\"\n",
              "            title=\"Convert this dataframe to an interactive table.\"\n",
              "            style=\"display:none;\">\n",
              "\n",
              "  <svg xmlns=\"http://www.w3.org/2000/svg\" height=\"24px\" viewBox=\"0 -960 960 960\">\n",
              "    <path d=\"M120-120v-720h720v720H120Zm60-500h600v-160H180v160Zm220 220h160v-160H400v160Zm0 220h160v-160H400v160ZM180-400h160v-160H180v160Zm440 0h160v-160H620v160ZM180-180h160v-160H180v160Zm440 0h160v-160H620v160Z\"/>\n",
              "  </svg>\n",
              "    </button>\n",
              "\n",
              "  <style>\n",
              "    .colab-df-container {\n",
              "      display:flex;\n",
              "      gap: 12px;\n",
              "    }\n",
              "\n",
              "    .colab-df-convert {\n",
              "      background-color: #E8F0FE;\n",
              "      border: none;\n",
              "      border-radius: 50%;\n",
              "      cursor: pointer;\n",
              "      display: none;\n",
              "      fill: #1967D2;\n",
              "      height: 32px;\n",
              "      padding: 0 0 0 0;\n",
              "      width: 32px;\n",
              "    }\n",
              "\n",
              "    .colab-df-convert:hover {\n",
              "      background-color: #E2EBFA;\n",
              "      box-shadow: 0px 1px 2px rgba(60, 64, 67, 0.3), 0px 1px 3px 1px rgba(60, 64, 67, 0.15);\n",
              "      fill: #174EA6;\n",
              "    }\n",
              "\n",
              "    .colab-df-buttons div {\n",
              "      margin-bottom: 4px;\n",
              "    }\n",
              "\n",
              "    [theme=dark] .colab-df-convert {\n",
              "      background-color: #3B4455;\n",
              "      fill: #D2E3FC;\n",
              "    }\n",
              "\n",
              "    [theme=dark] .colab-df-convert:hover {\n",
              "      background-color: #434B5C;\n",
              "      box-shadow: 0px 1px 3px 1px rgba(0, 0, 0, 0.15);\n",
              "      filter: drop-shadow(0px 1px 2px rgba(0, 0, 0, 0.3));\n",
              "      fill: #FFFFFF;\n",
              "    }\n",
              "  </style>\n",
              "\n",
              "    <script>\n",
              "      const buttonEl =\n",
              "        document.querySelector('#df-4c5ec80c-9ea6-43cd-ade1-ad2162a32b21 button.colab-df-convert');\n",
              "      buttonEl.style.display =\n",
              "        google.colab.kernel.accessAllowed ? 'block' : 'none';\n",
              "\n",
              "      async function convertToInteractive(key) {\n",
              "        const element = document.querySelector('#df-4c5ec80c-9ea6-43cd-ade1-ad2162a32b21');\n",
              "        const dataTable =\n",
              "          await google.colab.kernel.invokeFunction('convertToInteractive',\n",
              "                                                    [key], {});\n",
              "        if (!dataTable) return;\n",
              "\n",
              "        const docLinkHtml = 'Like what you see? Visit the ' +\n",
              "          '<a target=\"_blank\" href=https://colab.research.google.com/notebooks/data_table.ipynb>data table notebook</a>'\n",
              "          + ' to learn more about interactive tables.';\n",
              "        element.innerHTML = '';\n",
              "        dataTable['output_type'] = 'display_data';\n",
              "        await google.colab.output.renderOutput(dataTable, element);\n",
              "        const docLink = document.createElement('div');\n",
              "        docLink.innerHTML = docLinkHtml;\n",
              "        element.appendChild(docLink);\n",
              "      }\n",
              "    </script>\n",
              "  </div>\n",
              "\n",
              "\n",
              "    <div id=\"df-420c539c-e9be-40bd-954f-79dd357b64da\">\n",
              "      <button class=\"colab-df-quickchart\" onclick=\"quickchart('df-420c539c-e9be-40bd-954f-79dd357b64da')\"\n",
              "                title=\"Suggest charts\"\n",
              "                style=\"display:none;\">\n",
              "\n",
              "<svg xmlns=\"http://www.w3.org/2000/svg\" height=\"24px\"viewBox=\"0 0 24 24\"\n",
              "     width=\"24px\">\n",
              "    <g>\n",
              "        <path d=\"M19 3H5c-1.1 0-2 .9-2 2v14c0 1.1.9 2 2 2h14c1.1 0 2-.9 2-2V5c0-1.1-.9-2-2-2zM9 17H7v-7h2v7zm4 0h-2V7h2v10zm4 0h-2v-4h2v4z\"/>\n",
              "    </g>\n",
              "</svg>\n",
              "      </button>\n",
              "\n",
              "<style>\n",
              "  .colab-df-quickchart {\n",
              "      --bg-color: #E8F0FE;\n",
              "      --fill-color: #1967D2;\n",
              "      --hover-bg-color: #E2EBFA;\n",
              "      --hover-fill-color: #174EA6;\n",
              "      --disabled-fill-color: #AAA;\n",
              "      --disabled-bg-color: #DDD;\n",
              "  }\n",
              "\n",
              "  [theme=dark] .colab-df-quickchart {\n",
              "      --bg-color: #3B4455;\n",
              "      --fill-color: #D2E3FC;\n",
              "      --hover-bg-color: #434B5C;\n",
              "      --hover-fill-color: #FFFFFF;\n",
              "      --disabled-bg-color: #3B4455;\n",
              "      --disabled-fill-color: #666;\n",
              "  }\n",
              "\n",
              "  .colab-df-quickchart {\n",
              "    background-color: var(--bg-color);\n",
              "    border: none;\n",
              "    border-radius: 50%;\n",
              "    cursor: pointer;\n",
              "    display: none;\n",
              "    fill: var(--fill-color);\n",
              "    height: 32px;\n",
              "    padding: 0;\n",
              "    width: 32px;\n",
              "  }\n",
              "\n",
              "  .colab-df-quickchart:hover {\n",
              "    background-color: var(--hover-bg-color);\n",
              "    box-shadow: 0 1px 2px rgba(60, 64, 67, 0.3), 0 1px 3px 1px rgba(60, 64, 67, 0.15);\n",
              "    fill: var(--button-hover-fill-color);\n",
              "  }\n",
              "\n",
              "  .colab-df-quickchart-complete:disabled,\n",
              "  .colab-df-quickchart-complete:disabled:hover {\n",
              "    background-color: var(--disabled-bg-color);\n",
              "    fill: var(--disabled-fill-color);\n",
              "    box-shadow: none;\n",
              "  }\n",
              "\n",
              "  .colab-df-spinner {\n",
              "    border: 2px solid var(--fill-color);\n",
              "    border-color: transparent;\n",
              "    border-bottom-color: var(--fill-color);\n",
              "    animation:\n",
              "      spin 1s steps(1) infinite;\n",
              "  }\n",
              "\n",
              "  @keyframes spin {\n",
              "    0% {\n",
              "      border-color: transparent;\n",
              "      border-bottom-color: var(--fill-color);\n",
              "      border-left-color: var(--fill-color);\n",
              "    }\n",
              "    20% {\n",
              "      border-color: transparent;\n",
              "      border-left-color: var(--fill-color);\n",
              "      border-top-color: var(--fill-color);\n",
              "    }\n",
              "    30% {\n",
              "      border-color: transparent;\n",
              "      border-left-color: var(--fill-color);\n",
              "      border-top-color: var(--fill-color);\n",
              "      border-right-color: var(--fill-color);\n",
              "    }\n",
              "    40% {\n",
              "      border-color: transparent;\n",
              "      border-right-color: var(--fill-color);\n",
              "      border-top-color: var(--fill-color);\n",
              "    }\n",
              "    60% {\n",
              "      border-color: transparent;\n",
              "      border-right-color: var(--fill-color);\n",
              "    }\n",
              "    80% {\n",
              "      border-color: transparent;\n",
              "      border-right-color: var(--fill-color);\n",
              "      border-bottom-color: var(--fill-color);\n",
              "    }\n",
              "    90% {\n",
              "      border-color: transparent;\n",
              "      border-bottom-color: var(--fill-color);\n",
              "    }\n",
              "  }\n",
              "</style>\n",
              "\n",
              "      <script>\n",
              "        async function quickchart(key) {\n",
              "          const quickchartButtonEl =\n",
              "            document.querySelector('#' + key + ' button');\n",
              "          quickchartButtonEl.disabled = true;  // To prevent multiple clicks.\n",
              "          quickchartButtonEl.classList.add('colab-df-spinner');\n",
              "          try {\n",
              "            const charts = await google.colab.kernel.invokeFunction(\n",
              "                'suggestCharts', [key], {});\n",
              "          } catch (error) {\n",
              "            console.error('Error during call to suggestCharts:', error);\n",
              "          }\n",
              "          quickchartButtonEl.classList.remove('colab-df-spinner');\n",
              "          quickchartButtonEl.classList.add('colab-df-quickchart-complete');\n",
              "        }\n",
              "        (() => {\n",
              "          let quickchartButtonEl =\n",
              "            document.querySelector('#df-420c539c-e9be-40bd-954f-79dd357b64da button');\n",
              "          quickchartButtonEl.style.display =\n",
              "            google.colab.kernel.accessAllowed ? 'block' : 'none';\n",
              "        })();\n",
              "      </script>\n",
              "    </div>\n",
              "\n",
              "    </div>\n",
              "  </div>\n"
            ],
            "application/vnd.google.colaboratory.intrinsic+json": {
              "type": "dataframe",
              "variable_name": "df",
              "summary": "{\n  \"name\": \"df\",\n  \"rows\": 5110,\n  \"fields\": [\n    {\n      \"column\": \"id\",\n      \"properties\": {\n        \"dtype\": \"number\",\n        \"std\": 21161,\n        \"min\": 67,\n        \"max\": 72940,\n        \"num_unique_values\": 5110,\n        \"samples\": [\n          40041,\n          55244,\n          70992\n        ],\n        \"semantic_type\": \"\",\n        \"description\": \"\"\n      }\n    },\n    {\n      \"column\": \"gender\",\n      \"properties\": {\n        \"dtype\": \"category\",\n        \"num_unique_values\": 3,\n        \"samples\": [\n          \"Male\",\n          \"Female\",\n          \"Other\"\n        ],\n        \"semantic_type\": \"\",\n        \"description\": \"\"\n      }\n    },\n    {\n      \"column\": \"age\",\n      \"properties\": {\n        \"dtype\": \"number\",\n        \"std\": 22.61264672311352,\n        \"min\": 0.08,\n        \"max\": 82.0,\n        \"num_unique_values\": 104,\n        \"samples\": [\n          45.0,\n          24.0,\n          33.0\n        ],\n        \"semantic_type\": \"\",\n        \"description\": \"\"\n      }\n    },\n    {\n      \"column\": \"hypertension\",\n      \"properties\": {\n        \"dtype\": \"number\",\n        \"std\": 0,\n        \"min\": 0,\n        \"max\": 1,\n        \"num_unique_values\": 2,\n        \"samples\": [\n          1,\n          0\n        ],\n        \"semantic_type\": \"\",\n        \"description\": \"\"\n      }\n    },\n    {\n      \"column\": \"heart_disease\",\n      \"properties\": {\n        \"dtype\": \"number\",\n        \"std\": 0,\n        \"min\": 0,\n        \"max\": 1,\n        \"num_unique_values\": 2,\n        \"samples\": [\n          0,\n          1\n        ],\n        \"semantic_type\": \"\",\n        \"description\": \"\"\n      }\n    },\n    {\n      \"column\": \"ever_married\",\n      \"properties\": {\n        \"dtype\": \"category\",\n        \"num_unique_values\": 2,\n        \"samples\": [\n          \"No\",\n          \"Yes\"\n        ],\n        \"semantic_type\": \"\",\n        \"description\": \"\"\n      }\n    },\n    {\n      \"column\": \"work_type\",\n      \"properties\": {\n        \"dtype\": \"category\",\n        \"num_unique_values\": 5,\n        \"samples\": [\n          \"Self-employed\",\n          \"Never_worked\"\n        ],\n        \"semantic_type\": \"\",\n        \"description\": \"\"\n      }\n    },\n    {\n      \"column\": \"Residence_type\",\n      \"properties\": {\n        \"dtype\": \"category\",\n        \"num_unique_values\": 2,\n        \"samples\": [\n          \"Rural\",\n          \"Urban\"\n        ],\n        \"semantic_type\": \"\",\n        \"description\": \"\"\n      }\n    },\n    {\n      \"column\": \"avg_glucose_level\",\n      \"properties\": {\n        \"dtype\": \"number\",\n        \"std\": 45.28356015058203,\n        \"min\": 55.12,\n        \"max\": 271.74,\n        \"num_unique_values\": 3979,\n        \"samples\": [\n          178.29,\n          156.69\n        ],\n        \"semantic_type\": \"\",\n        \"description\": \"\"\n      }\n    },\n    {\n      \"column\": \"bmi\",\n      \"properties\": {\n        \"dtype\": \"number\",\n        \"std\": 7.854066729680158,\n        \"min\": 10.3,\n        \"max\": 97.6,\n        \"num_unique_values\": 418,\n        \"samples\": [\n          49.5,\n          18.5\n        ],\n        \"semantic_type\": \"\",\n        \"description\": \"\"\n      }\n    },\n    {\n      \"column\": \"smoking_status\",\n      \"properties\": {\n        \"dtype\": \"category\",\n        \"num_unique_values\": 4,\n        \"samples\": [\n          \"never smoked\",\n          \"Unknown\"\n        ],\n        \"semantic_type\": \"\",\n        \"description\": \"\"\n      }\n    },\n    {\n      \"column\": \"stroke\",\n      \"properties\": {\n        \"dtype\": \"number\",\n        \"std\": 0,\n        \"min\": 0,\n        \"max\": 1,\n        \"num_unique_values\": 2,\n        \"samples\": [\n          0,\n          1\n        ],\n        \"semantic_type\": \"\",\n        \"description\": \"\"\n      }\n    }\n  ]\n}"
            }
          },
          "metadata": {},
          "execution_count": 5
        }
      ]
    },
    {
      "cell_type": "markdown",
      "source": [
        "**Step 1: Statistical Planning & Methodologies**\n"
      ],
      "metadata": {
        "id": "oo-FqTQni1za"
      }
    },
    {
      "cell_type": "markdown",
      "source": [
        "**1.1 Define Inclusion/Exclusion Criteria**"
      ],
      "metadata": {
        "id": "bR6BAl5Fi7Rs"
      }
    },
    {
      "cell_type": "code",
      "source": [
        "# Inclusion: Age >= 18, BMI not null\n",
        "df = df[(df['age'] >= 18) & (df['bmi'].notnull())].copy()\n"
      ],
      "metadata": {
        "id": "JRBdI4QMi90x"
      },
      "execution_count": 6,
      "outputs": []
    },
    {
      "cell_type": "markdown",
      "source": [
        "**1.2 Define Covariates for Adjustment**"
      ],
      "metadata": {
        "id": "a3qVcRXgjC13"
      }
    },
    {
      "cell_type": "code",
      "source": [
        "covariates = ['age', 'hypertension', 'heart_disease', 'smoking_status']\n"
      ],
      "metadata": {
        "id": "JNSGlzqRjGru"
      },
      "execution_count": 7,
      "outputs": []
    },
    {
      "cell_type": "markdown",
      "source": [
        "**1.3 Simulate Stratified Randomization**"
      ],
      "metadata": {
        "id": "eNHje0QtjMTe"
      }
    },
    {
      "cell_type": "markdown",
      "source": [
        "**# 1.3 Simulate Stratified Randomization**"
      ],
      "metadata": {
        "id": "1i5-cbpPnocp"
      }
    },
    {
      "cell_type": "code",
      "source": [
        "from sklearn.model_selection import StratifiedShuffleSplit\n",
        "\n",
        "# Reload data to get original indices\n",
        "df = pd.read_csv(\"/content/drive/My Drive/Stroke/healthcare-dataset-stroke-data.csv\")\n",
        "\n",
        "# Apply inclusion criteria and reset index\n",
        "df = df[(df['age'] >= 18) & (df['bmi'].notnull())].copy()\n",
        "df.reset_index(drop=True, inplace=True)\n",
        "\n",
        "# Create stratification group by gender and comorbidity\n",
        "df['strata'] = df['gender'] + \"_\" + df['hypertension'].astype(str)\n",
        "\n",
        "# Remove strata with less than 2 samples\n",
        "valid_strata = df['strata'].value_counts()[lambda x: x >= 2].index\n",
        "df = df[df['strata'].isin(valid_strata)].copy()\n",
        "df.reset_index(drop=True, inplace=True)\n",
        "\n",
        "\n",
        "splitter = StratifiedShuffleSplit(n_splits=1, test_size=0.5, random_state=42)\n",
        "df['group'] = None\n",
        "for train_idx, test_idx in splitter.split(df, df['strata']):\n",
        "    df.loc[train_idx, 'group'] = 'Treatment'\n",
        "    df.loc[test_idx, 'group'] = 'Control'\n",
        "\n",
        "# Check balance\n",
        "print(df['group'].value_counts())\n",
        "print(df.groupby(['strata', 'group']).size().unstack(fill_value=0))"
      ],
      "metadata": {
        "colab": {
          "base_uri": "https://localhost:8080/"
        },
        "id": "XFp_NzqTnq_Z",
        "outputId": "5867e72b-9797-4c64-e88e-070e6182a7c6"
      },
      "execution_count": 11,
      "outputs": [
        {
          "output_type": "stream",
          "name": "stdout",
          "text": [
            "group\n",
            "Control      2036\n",
            "Treatment    2036\n",
            "Name: count, dtype: int64\n",
            "group     Control  Treatment\n",
            "strata                      \n",
            "Female_0     1119       1118\n",
            "Female_1      125        126\n",
            "Male_0        693        692\n",
            "Male_1         99        100\n"
          ]
        }
      ]
    },
    {
      "cell_type": "markdown",
      "source": [
        "**# 1.4 Define Endpoints**"
      ],
      "metadata": {
        "id": "GYXf8yFUn9Xa"
      }
    },
    {
      "cell_type": "code",
      "source": [
        "df['primary_endpoint'] = df['stroke']\n",
        "df['age_group'] = pd.cut(df['age'], bins=[18, 40, 60, 80, 100],\n",
        "                         labels=['Young', 'Mid-age', 'Senior', 'Elderly'])\n"
      ],
      "metadata": {
        "id": "yv2uUG6eoBs1"
      },
      "execution_count": 12,
      "outputs": []
    },
    {
      "cell_type": "markdown",
      "source": [
        "**# STEP 2: Statistical Programming (SDTM/ADaM-style)**"
      ],
      "metadata": {
        "id": "JGa0XXHroG1e"
      }
    },
    {
      "cell_type": "markdown",
      "source": [
        "**# 2.1 Create SDTM-like Tables**"
      ],
      "metadata": {
        "id": "DDZRtKAPoLch"
      }
    },
    {
      "cell_type": "code",
      "source": [
        "dm = df[['id', 'gender', 'age', 'age_group']].copy()\n",
        "vs = df[['id', 'bmi', 'avg_glucose_level']].copy()\n",
        "mh = df[['id', 'hypertension', 'heart_disease', 'smoking_status']].copy()\n"
      ],
      "metadata": {
        "id": "sWVYjcymoQHe"
      },
      "execution_count": 13,
      "outputs": []
    },
    {
      "cell_type": "markdown",
      "source": [
        "**# 2.2 Create ADaM-style Dataset with Derived Risk Score**"
      ],
      "metadata": {
        "id": "eBnzh-KsoVLp"
      }
    },
    {
      "cell_type": "code",
      "source": [
        "df['risk_score'] = (\n",
        "    df['age'] * 0.02 +\n",
        "    df['hypertension'] * 1 +\n",
        "    df['heart_disease'] * 1.5 +\n",
        "    df['avg_glucose_level'] * 0.01\n",
        ")\n",
        "adam = df[['id', 'group', 'risk_score', 'primary_endpoint', 'age_group']].copy()\n"
      ],
      "metadata": {
        "id": "p7ifCp8uobJz"
      },
      "execution_count": 14,
      "outputs": []
    },
    {
      "cell_type": "markdown",
      "source": [
        "**# 2.3 QC Checks**"
      ],
      "metadata": {
        "id": "gPKK0tYxohKj"
      }
    },
    {
      "cell_type": "code",
      "source": [
        "qc_log = []\n",
        "\n",
        "missing_bmi = df['bmi'].isnull().sum()\n",
        "if missing_bmi > 0:\n",
        "    qc_log.append(f\"Missing BMI entries: {missing_bmi}\")\n",
        "\n",
        "bmi_outliers = df[(df['bmi'] < 10) | (df['bmi'] > 80)]\n",
        "qc_log.append(f\"Outlier BMI count: {bmi_outliers.shape[0]}\")\n",
        "\n",
        "duplicates = df.duplicated(subset=['id']).sum()\n",
        "qc_log.append(f\"Duplicate ID count: {duplicates}\")\n"
      ],
      "metadata": {
        "id": "uRHcO8NdolVu"
      },
      "execution_count": 15,
      "outputs": []
    },
    {
      "cell_type": "markdown",
      "source": [
        "**# STEP 3: Visualizations**"
      ],
      "metadata": {
        "id": "jIGGzchdoqPB"
      }
    },
    {
      "cell_type": "markdown",
      "source": [
        "**# Risk Score by Group**"
      ],
      "metadata": {
        "id": "mejvsg8rouQF"
      }
    },
    {
      "cell_type": "code",
      "source": [
        "import seaborn as sns\n",
        "import matplotlib.pyplot as plt\n",
        "\n",
        "sns.boxplot(x='group', y='risk_score', data=df)\n",
        "plt.title(\"Risk Score Distribution by Group\")\n",
        "plt.show()"
      ],
      "metadata": {
        "colab": {
          "base_uri": "https://localhost:8080/",
          "height": 472
        },
        "id": "Z_AZRb6EoyLJ",
        "outputId": "4fa131fc-8e6f-4d21-aa03-9d0d708e2127"
      },
      "execution_count": 17,
      "outputs": [
        {
          "output_type": "display_data",
          "data": {
            "text/plain": [
              "<Figure size 640x480 with 1 Axes>"
            ],
            "image/png": "[encoded data removed]"
          },
          "metadata": {}
        }
      ]
    },
    {
      "cell_type": "markdown",
      "source": [
        "** Plot Type:** Boxplot comparing risk_score between Control and Treatment groups\n",
        "\n",
        "\n",
        "**Distribution:** Both groups have similar medians (~2.0), interquartile ranges, and spread\n",
        "\n",
        "\n",
        "**Outliers:** Present in both groups above ~4.0, indicating potential skew\n",
        "\n",
        "\n",
        "** Interpretation:** Suggests good baseline balance, supporting fair randomization\n",
        "\n",
        "\n",
        "**Usefulness**: Helps validate group comparability before analyzing treatment effects\n",
        "\n",
        "\n",
        "**Actionable Insight:** Consider checking for skewness or applying robust statistics due to outliers"
      ],
      "metadata": {
        "id": "l-C5tu-hwTXc"
      }
    },
    {
      "cell_type": "markdown",
      "source": [
        "**# Stroke Outcome by Age Group**"
      ],
      "metadata": {
        "id": "iD-bmP-Vo9ha"
      }
    },
    {
      "cell_type": "code",
      "source": [
        "sns.countplot(x='age_group', hue='primary_endpoint', data=df)\n",
        "plt.title(\"Stroke Outcome by Age Group\")\n",
        "plt.show()"
      ],
      "metadata": {
        "colab": {
          "base_uri": "https://localhost:8080/",
          "height": 472
        },
        "id": "aK9wJ-k3pCED",
        "outputId": "5b84e524-cd3e-4932-9db9-7bff0011ec90"
      },
      "execution_count": 18,
      "outputs": [
        {
          "output_type": "display_data",
          "data": {
            "text/plain": [
              "<Figure size 640x480 with 1 Axes>"
            ],
            "image/png": "[encoded data removed]"
          },
          "metadata": {}
        }
      ]
    },
    {
      "cell_type": "markdown",
      "source": [
        "- Bar chart shows stroke outcomes by age group.\n",
        "\n",
        "\n",
        "- Blue = No stroke (0), 🔸 Orange = Stroke (1).\n",
        "\n",
        "\n",
        "- Stroke rates are low in Young and Mid-age groups.\n",
        "\n",
        "\n",
        "- Stroke incidence rises in Seniors and Elderly.\n",
        "\n",
        "\n",
        "- Key Insight: Stroke risk increases with age.\n",
        "\n",
        "\n",
        "- Importance: Highlights need for age-based prevention."
      ],
      "metadata": {
        "id": "p8ppBsuQ0nSz"
      }
    },
    {
      "cell_type": "markdown",
      "source": [
        "**# STEP 4: Export Outputs**"
      ],
      "metadata": {
        "id": "BErcTKYApGLN"
      }
    },
    {
      "cell_type": "code",
      "source": [
        "adam.to_csv(\"/content/drive/My Drive/Stroke/adam_dm.csv\", index=False)\n",
        "\n",
        "with open(\"/content/drive/My Drive/Stroke/qc_log.csv\", \"w\") as f:\n",
        "    for entry in qc_log:\n",
        "        f.write(entry + \"\\n\")\n",
        "\n",
        "with open(\"/content/drive/My Drive/Stroke/analysis_plan.md\", \"w\") as f:\n",
        "    f.write(\"\"\"\n",
        "## Analysis Plan (SAP Simulation)\n",
        "\n",
        "**Inclusion Criteria**: Age >= 18, valid BMI\n",
        "**Randomization**: Stratified by gender and hypertension\n",
        "**Primary Endpoint**: Stroke occurrence\n",
        "**Secondary Endpoint**: Age-group risk tier\n",
        "**Covariates**: Age, hypertension, heart disease, smoking status\n",
        "**Derived Metrics**: Risk score combining age, comorbidity, glucose\n",
        "\"\"\")"
      ],
      "metadata": {
        "id": "xzmutWZFpKkJ"
      },
      "execution_count": 19,
      "outputs": []
    },
    {
      "cell_type": "markdown",
      "source": [
        "## Machine Learning Prediction & Outcomes\n",
        "\n",
        "\n",
        "**Risk Score Formula**:\n",
        "```\n",
        "risk_score = (0.02 * age) + 1 * hypertension + 1.5 * heart_disease + 0.01 * avg_glucose_level\n",
        "```\n",
        "\n",
        "\n",
        "**Groups**: Treatment vs Control  \n",
        "**Balance**: Stratified 50/50 split across gender × hypertension strata  \n",
        "**Visual Insights**: Boxplots and countplots of outcome distributions\n",
        "\n",
        "---\n",
        "\n",
        "\n",
        "## Exported Outputs\n",
        "\n",
        "- `adam_dm.csv` → Analysis-ready dataset\n",
        "- `qc_log.csv` → QC findings (missing/outliers/duplicates)\n",
        "- `analysis_plan.md` → Simulated SAP\n",
        "\n",
        "---\n",
        "\n",
        "\n",
        "##  AGI Enhancement Potential\n",
        "\n",
        "This workflow mimics what an AGI system could automate:\n",
        "- Cohort definition\n",
        "- Randomization logic\n",
        "- Regulatory-style data derivation\n",
        "- QC + SAP generation\n",
        "- Dashboard-ready outputs for trial feasibility evaluation\n",
        "\n",
        "---\n",
        "\n",
        "\n",
        "## Tools Used\n",
        "\n",
        "- Python\n",
        "- Pandas\n",
        "- Scikit-learn\n",
        "- Seaborn\n",
        "- Matplotlib\n",
        "- Google Colab\n",
        "\n",
        "---\n",
        "\n",
        "\n",
        "##  References\n",
        "\n",
        "- CDISC ADaM/SDTM Guidelines\n",
        "- GCP ICH E9 Statistical Principles\n",
        "- Kaggle Stroke Dataset (2022)\n",
        "\n",
        "---\n",
        "\n",
        "\n",
        "> Developed by Ronald Kalani  \n",
        "> [LinkedIn](https://www.linkedin.com/in/ronald-kalani-1a465533/) | [GitHub](https://github.com/ronaldkalani)\n",
        "\n"
      ],
      "metadata": {
        "id": "iJEXlc7o1fAX"
      }
    }
  ]
}